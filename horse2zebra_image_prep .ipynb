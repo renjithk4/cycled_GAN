{
  "nbformat": 4,
  "nbformat_minor": 0,
  "metadata": {
    "kernelspec": {
      "display_name": "Python 3",
      "language": "python",
      "name": "python3"
    },
    "language_info": {
      "codemirror_mode": {
        "name": "ipython",
        "version": 3
      },
      "file_extension": ".py",
      "mimetype": "text/x-python",
      "name": "python",
      "nbconvert_exporter": "python",
      "pygments_lexer": "ipython3",
      "version": "3.7.6"
    },
    "colab": {
      "name": "horse2zebra_image_prep.ipynb",
      "provenance": []
    }
  },
  "cells": [
    {
      "cell_type": "code",
      "metadata": {
        "id": "F5RAnptznvxW"
      },
      "source": [
        "import cv2\n",
        "import matplotlib.pyplot as plt"
      ],
      "execution_count": null,
      "outputs": []
    },
    {
      "cell_type": "code",
      "metadata": {
        "id": "GRcWnvLUnvxZ"
      },
      "source": [
        "import glob\n",
        "\n",
        "pathA = 'horse2zebra/trainA/*'\n",
        "pathB = 'horse2zebra/trainB/*'\n",
        "\n",
        "\n",
        "fileA = []\n",
        "fileB = []\n",
        "\n",
        "for i in glob.glob(pathA):\n",
        "    fileA.append(i)\n",
        "    \n",
        "for i in glob.glob(pathB):\n",
        "    fileB.append(i)"
      ],
      "execution_count": null,
      "outputs": []
    },
    {
      "cell_type": "code",
      "metadata": {
        "id": "YPZmQV5hnvxa",
        "outputId": "369cd572-17ae-4371-ba7e-1729e7fdd4ca"
      },
      "source": [
        "print(len(fileA),\"   \",len(fileB))"
      ],
      "execution_count": null,
      "outputs": [
        {
          "name": "stdout",
          "output_type": "stream",
          "text": [
            "1067     1334\n"
          ]
        }
      ]
    },
    {
      "cell_type": "code",
      "metadata": {
        "id": "rrBB9mRCnvxb"
      },
      "source": [
        "horse = []\n",
        "\n",
        "for i in fileA:\n",
        "    img = cv2.imread(i)\n",
        "    img = cv2.cvtColor(img, cv2.COLOR_BGR2RGB)\n",
        "    img = cv2.resize(img,(256,256))\n",
        "    horse.append(img)\n",
        "    \n",
        "zebra = []\n",
        "\n",
        "for i in fileB:\n",
        "    img = cv2.imread(i)\n",
        "    img = cv2.cvtColor(img, cv2.COLOR_BGR2RGB)\n",
        "    img = cv2.resize(img,(256,256))\n",
        "    zebra.append(img)\n"
      ],
      "execution_count": null,
      "outputs": []
    },
    {
      "cell_type": "code",
      "metadata": {
        "id": "xY-hiNbynvxc",
        "outputId": "5dd57b40-733b-4e1d-c778-4d0baec50c34"
      },
      "source": [
        "from numpy import savez_compressed\n",
        "\n",
        "filename = 'horse2zebra_256.npz'\n",
        "savez_compressed(filename, horse,zebra) #here img_array2 represent dehaze image and img_array represent haze \n",
        "print('Saved dataset: ', filename)"
      ],
      "execution_count": null,
      "outputs": [
        {
          "name": "stdout",
          "output_type": "stream",
          "text": [
            "Saved dataset:  horse2zebra_256.npz\n"
          ]
        }
      ]
    }
  ]
}